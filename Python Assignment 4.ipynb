{
 "cells": [
  {
   "cell_type": "markdown",
   "metadata": {},
   "source": [
    "1.1 Write a Python Program(with class concepts) to find the area of the triangle using the below formula.  \n",
    "\n",
    "area = (s(s-a)(s-b)(s-c)) ** 0.5  \n",
    "  \n",
    "Function to take the length of the sides of triangle from user should be defined in the parent\n",
    "class and function to calculate the area should be defined in subclass.\n"
   ]
  },
  {
   "cell_type": "code",
   "execution_count": 1,
   "metadata": {},
   "outputs": [
    {
     "name": "stdout",
     "output_type": "stream",
     "text": [
      "Enter the first side: 2\n",
      "Enter the second side: 3\n",
      "Enter the third side: 4\n",
      "The area of a triangle is 2.9047375096555625 sq.units\n"
     ]
    }
   ],
   "source": [
    "#defining the class triangle\n",
    "class Triangle:\n",
    "    def __init__(self,a,b,c):  #a,b,c = sides of the triangle\n",
    "        self.a = float(a)\n",
    "        self.b = float(b)\n",
    "        self.c = float(c)\n",
    "    \n",
    "    def area(self):\n",
    "        s = (self.a + self.b + self.c)/2    #s = semi-perimeter of the triangle\n",
    "        return (s*(s-self.a)*(s-self.b)*(s-self.c)) ** 0.5     #formula of area \n",
    "\n",
    "\n",
    "#taking user inputs\n",
    "side1 = float(input('Enter the first side: '))\n",
    "side2 = float(input('Enter the second side: '))\n",
    "side3 = float(input('Enter the third side: '))\n",
    "\n",
    "t = Triangle(side1,side2,side3)\n",
    "print('The area of a triangle is {} sq.units'.format(t.area()))"
   ]
  },
  {
   "cell_type": "markdown",
   "metadata": {},
   "source": [
    "1.2 Write a function filter_long_words() that takes a list of words and an integer n and returns the list of words that are longer than n."
   ]
  },
  {
   "cell_type": "code",
   "execution_count": 2,
   "metadata": {},
   "outputs": [
    {
     "name": "stdout",
     "output_type": "stream",
     "text": [
      "Enter list of words: will,wall,white,whane,which,witch,pineapple,orange\n"
     ]
    },
    {
     "data": {
      "text/plain": [
       "['white', 'whane', 'which', 'witch', 'pineapple', 'orange']"
      ]
     },
     "execution_count": 2,
     "metadata": {},
     "output_type": "execute_result"
    }
   ],
   "source": [
    "user_input = str(input('Enter list of words: '))\n",
    "list_words = list(user_input.split(','))\n",
    "\n",
    "def filter_long_words(n):\n",
    "    return([words for words in list_words if len(words)>n])\n",
    "\n",
    "filter_long_words(4)\n",
    "    "
   ]
  },
  {
   "cell_type": "markdown",
   "metadata": {},
   "source": [
    "2.1 Write a Python program using function concept that maps list of words into a list of integers representing the lengths of the corresponding words.  \n",
    "\n",
    "Hint: If a [ab,cde,erty] is passed on to the python function output should come as [2,3,4]  \n",
    "\n",
    "Here 2,3 and 4 are the lengths of the words in the list.  \n",
    "\n"
   ]
  },
  {
   "cell_type": "code",
   "execution_count": 5,
   "metadata": {},
   "outputs": [
    {
     "name": "stdout",
     "output_type": "stream",
     "text": [
      "Enter list of words: wheel,whale,wall,pineapple,pumpkin\n"
     ]
    },
    {
     "data": {
      "text/plain": [
       "[5, 5, 4, 9, 7]"
      ]
     },
     "execution_count": 5,
     "metadata": {},
     "output_type": "execute_result"
    }
   ],
   "source": [
    "user_input = str(input('Enter list of words: '))\n",
    "list_words = list(user_input.split(','))\n",
    "\n",
    "def give_len_words():\n",
    "    return([len(words) for words in list_words])\n",
    "\n",
    "give_len_words()"
   ]
  },
  {
   "cell_type": "markdown",
   "metadata": {},
   "source": [
    "2.2 Write a Python function which takes a character (i.e. a string of length 1) and returns True if\n",
    "it is a vowel, False otherwise."
   ]
  },
  {
   "cell_type": "code",
   "execution_count": 3,
   "metadata": {},
   "outputs": [
    {
     "name": "stdout",
     "output_type": "stream",
     "text": [
      "Enter a single alphabet: k\n"
     ]
    },
    {
     "data": {
      "text/plain": [
       "False"
      ]
     },
     "execution_count": 3,
     "metadata": {},
     "output_type": "execute_result"
    }
   ],
   "source": [
    "user_input = str(input('Enter a single alphabet: '))\n",
    "\n",
    "def check_vowel():\n",
    "        if user_input not in ('a','e','i','o','u','A','E','I','O','U'):\n",
    "            return False\n",
    "        else:\n",
    "            return True\n",
    "            \n",
    "check_vowel()            "
   ]
  },
  {
   "cell_type": "code",
   "execution_count": null,
   "metadata": {},
   "outputs": [],
   "source": []
  }
 ],
 "metadata": {
  "kernelspec": {
   "display_name": "Python 3",
   "language": "python",
   "name": "python3"
  },
  "language_info": {
   "codemirror_mode": {
    "name": "ipython",
    "version": 3
   },
   "file_extension": ".py",
   "mimetype": "text/x-python",
   "name": "python",
   "nbconvert_exporter": "python",
   "pygments_lexer": "ipython3",
   "version": "3.6.10"
  }
 },
 "nbformat": 4,
 "nbformat_minor": 4
}
